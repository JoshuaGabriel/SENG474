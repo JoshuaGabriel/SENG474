{
 "cells": [
  {
   "cell_type": "code",
   "execution_count": 5,
   "metadata": {},
   "outputs": [
    {
     "name": "stdout",
     "output_type": "stream",
     "text": [
      "/Users/samgoyal/Documents/SENG 474 project/train\n",
      "/Users/samgoyal/Documents/SENG 474 project/test\n",
      "/Users/samgoyal/Documents/SENG 474 project/valid\n"
     ]
    }
   ],
   "source": [
    "import os\n",
    "import cv2\n",
    "import pandas as pd\n",
    "import numpy as np\n",
    "import tensorflow as tf\n",
    "from tensorflow.keras import layers, models\n",
    "from sklearn.model_selection import train_test_split\n",
    "from sklearn.preprocessing import LabelEncoder\n",
    "from sklearn.metrics import classification_report\n",
    "\n",
    "# Function to load and preprocess images\n",
    "def load_images_and_labels(folder_path, csv_filename):\n",
    "    data = pd.read_csv(os.path.join(folder_path, csv_filename))\n",
    "\n",
    "    # Assuming your CSV has columns 'filename', 'heavy', 'loam', 'medium', 'sandy'\n",
    "    filenames = data['filename'].tolist()\n",
    "    labels = data[[' heavy', ' loam', ' medium', ' sandy']].values\n",
    "\n",
    "    images = []\n",
    "    for filename in filenames:\n",
    "        img_path = os.path.join(folder_path, filename)\n",
    "        img = cv2.imread(img_path)\n",
    "        images.append(img)\n",
    "\n",
    "    return np.array(images), labels\n",
    "\n",
    "# Load data from train folder\n",
    "train_folder = os.path.abspath('train')\n",
    "train_csv_filename = '_classes.csv'\n",
    "X_train, y_train = load_images_and_labels(train_folder, train_csv_filename)\n",
    "\n",
    "# Load data from test folder\n",
    "test_folder = os.path.abspath('test')\n",
    "test_csv_filename = '_classes.csv'\n",
    "X_test, y_test = load_images_and_labels(test_folder, test_csv_filename)\n",
    "\n",
    "# Load data from valid folder\n",
    "valid_folder = os.path.abspath('valid')\n",
    "valid_csv_filename = '_classes.csv'\n",
    "X_valid, y_valid = load_images_and_labels(valid_folder, valid_csv_filename)\n",
    "\n",
    "# Assuming images are already preprocessed, you can directly use them for model training\n",
    "print(os.path.abspath(train_folder))\n",
    "print(os.path.abspath(test_folder))\n",
    "print(os.path.abspath(valid_folder))"
   ]
  },
  {
   "cell_type": "code",
   "execution_count": 7,
   "metadata": {},
   "outputs": [
    {
     "name": "stdout",
     "output_type": "stream",
     "text": [
      "Epoch 1/10\n",
      "125/125 [==============================] - 3849s 31s/step - loss: 1216.4778 - accuracy: 0.2632 - val_loss: 1.3876 - val_accuracy: 0.2696\n",
      "Epoch 2/10\n",
      "125/125 [==============================] - 4056s 32s/step - loss: 0.8938 - accuracy: 0.5884 - val_loss: 1.3805 - val_accuracy: 0.2843\n",
      "Epoch 3/10\n",
      "125/125 [==============================] - 3752s 30s/step - loss: 0.7058 - accuracy: 0.6879 - val_loss: 1.3449 - val_accuracy: 0.3431\n",
      "Epoch 4/10\n",
      "125/125 [==============================] - 3761s 30s/step - loss: 0.5677 - accuracy: 0.7766 - val_loss: 1.4768 - val_accuracy: 0.4412\n",
      "Epoch 5/10\n",
      "125/125 [==============================] - 3727s 30s/step - loss: 0.3757 - accuracy: 0.8761 - val_loss: 2.1310 - val_accuracy: 0.4069\n",
      "Epoch 6/10\n",
      "125/125 [==============================] - 3750s 30s/step - loss: 0.2411 - accuracy: 0.9262 - val_loss: 1.9131 - val_accuracy: 0.4265\n",
      "Epoch 7/10\n",
      "125/125 [==============================] - 3738s 30s/step - loss: 0.1749 - accuracy: 0.9474 - val_loss: 3.6960 - val_accuracy: 0.4118\n",
      "Epoch 8/10\n",
      "125/125 [==============================] - 3754s 30s/step - loss: 0.1246 - accuracy: 0.9703 - val_loss: 5.1205 - val_accuracy: 0.3578\n",
      "Epoch 9/10\n",
      "125/125 [==============================] - 3819s 31s/step - loss: 0.0802 - accuracy: 0.9778 - val_loss: 5.5229 - val_accuracy: 0.3578\n",
      "Epoch 10/10\n",
      "125/125 [==============================] - 3927s 31s/step - loss: 0.0634 - accuracy: 0.9831 - val_loss: 5.0163 - val_accuracy: 0.3971\n",
      "4/4 [==============================] - 8s 2s/step - loss: 5.0043 - accuracy: 0.4000\n",
      "Test accuracy: 0.4000000059604645\n",
      "4/4 [==============================] - 12s 2s/step\n"
     ]
    },
    {
     "ename": "TypeError",
     "evalue": "object of type 'numpy.int64' has no len()",
     "output_type": "error",
     "traceback": [
      "\u001b[0;31m---------------------------------------------------------------------------\u001b[0m",
      "\u001b[0;31mTypeError\u001b[0m                                 Traceback (most recent call last)",
      "\u001b[1;32m/Users/samgoyal/Documents/SENG 474 project/soil_classification.ipynb Cell 2\u001b[0m line \u001b[0;36m3\n\u001b[1;32m     <a href='vscode-notebook-cell:/Users/samgoyal/Documents/SENG%20474%20project/soil_classification.ipynb#W1sZmlsZQ%3D%3D?line=35'>36</a>\u001b[0m y_pred \u001b[39m=\u001b[39m model\u001b[39m.\u001b[39mpredict(X_test)\n\u001b[1;32m     <a href='vscode-notebook-cell:/Users/samgoyal/Documents/SENG%20474%20project/soil_classification.ipynb#W1sZmlsZQ%3D%3D?line=36'>37</a>\u001b[0m y_pred_classes \u001b[39m=\u001b[39m np\u001b[39m.\u001b[39margmax(y_pred, axis\u001b[39m=\u001b[39m\u001b[39m1\u001b[39m)\n\u001b[0;32m---> <a href='vscode-notebook-cell:/Users/samgoyal/Documents/SENG%20474%20project/soil_classification.ipynb#W1sZmlsZQ%3D%3D?line=37'>38</a>\u001b[0m classification_report \u001b[39m=\u001b[39m classification_report(y_test_encoded, y_pred_classes, target_names\u001b[39m=\u001b[39;49mlabel_encoder\u001b[39m.\u001b[39;49mclasses_)\n\u001b[1;32m     <a href='vscode-notebook-cell:/Users/samgoyal/Documents/SENG%20474%20project/soil_classification.ipynb#W1sZmlsZQ%3D%3D?line=39'>40</a>\u001b[0m \u001b[39mprint\u001b[39m(\u001b[39m\"\u001b[39m\u001b[39mClassification Report:\u001b[39m\u001b[39m\\n\u001b[39;00m\u001b[39m\"\u001b[39m, classification_report)\n",
      "File \u001b[0;32m/usr/local/lib/python3.11/site-packages/sklearn/utils/_param_validation.py:211\u001b[0m, in \u001b[0;36mvalidate_params.<locals>.decorator.<locals>.wrapper\u001b[0;34m(*args, **kwargs)\u001b[0m\n\u001b[1;32m    205\u001b[0m \u001b[39mtry\u001b[39;00m:\n\u001b[1;32m    206\u001b[0m     \u001b[39mwith\u001b[39;00m config_context(\n\u001b[1;32m    207\u001b[0m         skip_parameter_validation\u001b[39m=\u001b[39m(\n\u001b[1;32m    208\u001b[0m             prefer_skip_nested_validation \u001b[39mor\u001b[39;00m global_skip_validation\n\u001b[1;32m    209\u001b[0m         )\n\u001b[1;32m    210\u001b[0m     ):\n\u001b[0;32m--> 211\u001b[0m         \u001b[39mreturn\u001b[39;00m func(\u001b[39m*\u001b[39;49margs, \u001b[39m*\u001b[39;49m\u001b[39m*\u001b[39;49mkwargs)\n\u001b[1;32m    212\u001b[0m \u001b[39mexcept\u001b[39;00m InvalidParameterError \u001b[39mas\u001b[39;00m e:\n\u001b[1;32m    213\u001b[0m     \u001b[39m# When the function is just a wrapper around an estimator, we allow\u001b[39;00m\n\u001b[1;32m    214\u001b[0m     \u001b[39m# the function to delegate validation to the estimator, but we replace\u001b[39;00m\n\u001b[1;32m    215\u001b[0m     \u001b[39m# the name of the estimator by the name of the function in the error\u001b[39;00m\n\u001b[1;32m    216\u001b[0m     \u001b[39m# message to avoid confusion.\u001b[39;00m\n\u001b[1;32m    217\u001b[0m     msg \u001b[39m=\u001b[39m re\u001b[39m.\u001b[39msub(\n\u001b[1;32m    218\u001b[0m         \u001b[39mr\u001b[39m\u001b[39m\"\u001b[39m\u001b[39mparameter of \u001b[39m\u001b[39m\\\u001b[39m\u001b[39mw+ must be\u001b[39m\u001b[39m\"\u001b[39m,\n\u001b[1;32m    219\u001b[0m         \u001b[39mf\u001b[39m\u001b[39m\"\u001b[39m\u001b[39mparameter of \u001b[39m\u001b[39m{\u001b[39;00mfunc\u001b[39m.\u001b[39m\u001b[39m__qualname__\u001b[39m\u001b[39m}\u001b[39;00m\u001b[39m must be\u001b[39m\u001b[39m\"\u001b[39m,\n\u001b[1;32m    220\u001b[0m         \u001b[39mstr\u001b[39m(e),\n\u001b[1;32m    221\u001b[0m     )\n",
      "File \u001b[0;32m/usr/local/lib/python3.11/site-packages/sklearn/metrics/_classification.py:2592\u001b[0m, in \u001b[0;36mclassification_report\u001b[0;34m(y_true, y_pred, labels, target_names, sample_weight, digits, output_dict, zero_division)\u001b[0m\n\u001b[1;32m   2590\u001b[0m \u001b[39melse\u001b[39;00m:\n\u001b[1;32m   2591\u001b[0m     longest_last_line_heading \u001b[39m=\u001b[39m \u001b[39m\"\u001b[39m\u001b[39mweighted avg\u001b[39m\u001b[39m\"\u001b[39m\n\u001b[0;32m-> 2592\u001b[0m     name_width \u001b[39m=\u001b[39m \u001b[39mmax\u001b[39;49m(\u001b[39mlen\u001b[39;49m(cn) \u001b[39mfor\u001b[39;49;00m cn \u001b[39min\u001b[39;49;00m target_names)\n\u001b[1;32m   2593\u001b[0m     width \u001b[39m=\u001b[39m \u001b[39mmax\u001b[39m(name_width, \u001b[39mlen\u001b[39m(longest_last_line_heading), digits)\n\u001b[1;32m   2594\u001b[0m     head_fmt \u001b[39m=\u001b[39m \u001b[39m\"\u001b[39m\u001b[39m{\u001b[39m\u001b[39m:>\u001b[39m\u001b[39m{width}\u001b[39;00m\u001b[39ms} \u001b[39m\u001b[39m\"\u001b[39m \u001b[39m+\u001b[39m \u001b[39m\"\u001b[39m\u001b[39m \u001b[39m\u001b[39m{:>9}\u001b[39;00m\u001b[39m\"\u001b[39m \u001b[39m*\u001b[39m \u001b[39mlen\u001b[39m(headers)\n",
      "File \u001b[0;32m/usr/local/lib/python3.11/site-packages/sklearn/metrics/_classification.py:2592\u001b[0m, in \u001b[0;36m<genexpr>\u001b[0;34m(.0)\u001b[0m\n\u001b[1;32m   2590\u001b[0m \u001b[39melse\u001b[39;00m:\n\u001b[1;32m   2591\u001b[0m     longest_last_line_heading \u001b[39m=\u001b[39m \u001b[39m\"\u001b[39m\u001b[39mweighted avg\u001b[39m\u001b[39m\"\u001b[39m\n\u001b[0;32m-> 2592\u001b[0m     name_width \u001b[39m=\u001b[39m \u001b[39mmax\u001b[39m(\u001b[39mlen\u001b[39;49m(cn) \u001b[39mfor\u001b[39;00m cn \u001b[39min\u001b[39;00m target_names)\n\u001b[1;32m   2593\u001b[0m     width \u001b[39m=\u001b[39m \u001b[39mmax\u001b[39m(name_width, \u001b[39mlen\u001b[39m(longest_last_line_heading), digits)\n\u001b[1;32m   2594\u001b[0m     head_fmt \u001b[39m=\u001b[39m \u001b[39m\"\u001b[39m\u001b[39m{\u001b[39m\u001b[39m:>\u001b[39m\u001b[39m{width}\u001b[39;00m\u001b[39ms} \u001b[39m\u001b[39m\"\u001b[39m \u001b[39m+\u001b[39m \u001b[39m\"\u001b[39m\u001b[39m \u001b[39m\u001b[39m{:>9}\u001b[39;00m\u001b[39m\"\u001b[39m \u001b[39m*\u001b[39m \u001b[39mlen\u001b[39m(headers)\n",
      "\u001b[0;31mTypeError\u001b[0m: object of type 'numpy.int64' has no len()"
     ]
    }
   ],
   "source": [
    "\n",
    "\n",
    "# Label encoding\n",
    "label_encoder = LabelEncoder()\n",
    "y_train_encoded = label_encoder.fit_transform(np.argmax(y_train, axis=1))\n",
    "y_test_encoded = label_encoder.transform(np.argmax(y_test, axis=1))\n",
    "y_valid_encoded = label_encoder.transform(np.argmax(y_valid, axis=1))\n",
    "\n",
    "# Model architecture\n",
    "model = models.Sequential()\n",
    "\n",
    "# Convolutional layers\n",
    "model.add(layers.Conv2D(32, (3, 3), activation='relu', input_shape=(640, 640, 3)))\n",
    "model.add(layers.MaxPooling2D((2, 2)))\n",
    "model.add(layers.Conv2D(64, (3, 3), activation='relu'))\n",
    "model.add(layers.MaxPooling2D((2, 2)))\n",
    "\n",
    "# Flatten layer\n",
    "model.add(layers.Flatten())\n",
    "\n",
    "# Fully connected layers\n",
    "model.add(layers.Dense(128, activation='relu'))\n",
    "model.add(layers.Dense(4, activation='softmax'))  # 4 classes for the four soil types\n",
    "\n",
    "# Compile the model\n",
    "model.compile(optimizer='adam',\n",
    "              loss='sparse_categorical_crossentropy',\n",
    "              metrics=['accuracy'])\n",
    "\n",
    "# Model training\n",
    "model.fit(X_train, y_train_encoded, epochs=10, validation_data=(X_valid, y_valid_encoded))\n",
    "\n",
    "# Model evaluation\n",
    "test_loss, test_acc = model.evaluate(X_test, y_test_encoded)\n",
    "print(f'Test accuracy: {test_acc}')\n",
    "\n",
    "\n",
    "\n"
   ]
  }
 ],
 "metadata": {
  "kernelspec": {
   "display_name": "Python 3",
   "language": "python",
   "name": "python3"
  },
  "language_info": {
   "codemirror_mode": {
    "name": "ipython",
    "version": 3
   },
   "file_extension": ".py",
   "mimetype": "text/x-python",
   "name": "python",
   "nbconvert_exporter": "python",
   "pygments_lexer": "ipython3",
   "version": "3.11.5"
  },
  "orig_nbformat": 4
 },
 "nbformat": 4,
 "nbformat_minor": 2
}
